{
  "nbformat": 4,
  "nbformat_minor": 0,
  "metadata": {
    "colab": {
      "provenance": []
    },
    "kernelspec": {
      "name": "python3",
      "display_name": "Python 3"
    },
    "language_info": {
      "name": "python"
    }
  },
  "cells": [
    {
      "cell_type": "markdown",
      "source": [
        "Q1 : What is the average median income of the dataset and check the distribution of data using appropriate plots. Please explain distribution of the plot."
      ],
      "metadata": {
        "id": "Iy6dI9Ljod5b"
      }
    },
    {
      "cell_type": "code",
      "source": [
        "import numpy as np\n",
        "import pandas as pd\n",
        "import matplotlib.pyplot as plt\n",
        "import seaborn as sns\n",
        "\n",
        "dfh = pd.read_excel('housing.xlsx')\n",
        "\n",
        "dfh.info()"
      ],
      "metadata": {
        "id": "Rxcq4B3gx76Z"
      },
      "execution_count": null,
      "outputs": []
    },
    {
      "cell_type": "code",
      "source": [
        "dfh['median_income'].mean()\n"
      ],
      "metadata": {
        "id": "p3AnA-uGC9UM"
      },
      "execution_count": null,
      "outputs": []
    },
    {
      "cell_type": "code",
      "source": [
        "dfh.hist(  figsize=(20,15) , bins = 40 , edgecolor=\"black\" )\n",
        "plt.show()"
      ],
      "metadata": {
        "id": "6IDTQeEEo97m"
      },
      "execution_count": null,
      "outputs": []
    },
    {
      "cell_type": "markdown",
      "source": [
        "Q2 : Draw an appropriate plot to see the distribution of housing_median_age and explain your explanations"
      ],
      "metadata": {
        "id": "NxugHKFqEUFe"
      }
    },
    {
      "cell_type": "code",
      "source": [
        "sns.histplot(dfh['housing_median_age'])\n"
      ],
      "metadata": {
        "id": "4sDM-QNt5ha8"
      },
      "execution_count": null,
      "outputs": []
    },
    {
      "cell_type": "markdown",
      "source": [
        " Q3 : Show with help of visualization , how median_income and median_housing_values are related?"
      ],
      "metadata": {
        "id": "C2CdCFHLFg5N"
      }
    },
    {
      "cell_type": "code",
      "source": [
        "sns.scatterplot(dfh, x = 'median_house_value' , y = 'median_income')"
      ],
      "metadata": {
        "id": "xe0F9QayGG7M"
      },
      "execution_count": null,
      "outputs": []
    },
    {
      "cell_type": "markdown",
      "source": [
        "Q4 : Create a dataset by deleting the corresponding examples from the dataset for which total_bedrooms are not available"
      ],
      "metadata": {
        "id": "MSytgj5Cgkq0"
      }
    },
    {
      "cell_type": "code",
      "source": [
        "dfh_drop = dfh.dropna(subset = ['total_bedrooms'])\n",
        "dfh_drop.info()"
      ],
      "metadata": {
        "id": "AT6sSQPEglDQ"
      },
      "execution_count": null,
      "outputs": []
    },
    {
      "cell_type": "markdown",
      "source": [
        "Q5 : Create a dataset by filling the data with the missing mean value of the total_bedrooms in the original dataset"
      ],
      "metadata": {
        "id": "JzfB1PhIhkYg"
      }
    },
    {
      "cell_type": "code",
      "source": [
        "dfh_fill_mean = dfh[\"total_bedrooms\"].fillna(dfh['total_bedrooms'].mean())\n",
        "dfh_fill_mean"
      ],
      "metadata": {
        "id": "_AvhoEmohktK"
      },
      "execution_count": null,
      "outputs": []
    },
    {
      "cell_type": "markdown",
      "source": [
        "Q6 : Write programming construct (create a user defined functions) to calculate the median value of the data set wherever required. "
      ],
      "metadata": {
        "id": "O_PmhYBgibak"
      }
    },
    {
      "cell_type": "code",
      "source": [
        "dfh['longitude'].median() #built-in function"
      ],
      "metadata": {
        "id": "4bgTTlYIibzE"
      },
      "execution_count": null,
      "outputs": []
    },
    {
      "cell_type": "code",
      "source": [
        "data = dfh['latitude']\n",
        "\n",
        "def median(data):\n",
        "\n",
        "  data.sort()\n",
        "  if len(data) % 2 == 1 :\n",
        "    return data[len(data)//2]\n",
        "  else :\n",
        "    return (data[len(data)//2-1]) + (data[len(data)//2])/2"
      ],
      "metadata": {
        "id": "Na8ClNTKeHSr"
      },
      "execution_count": null,
      "outputs": []
    },
    {
      "cell_type": "markdown",
      "source": [
        "Q7 : Plot latitude versus longitude and explain your observations."
      ],
      "metadata": {
        "id": "t7SROCQlkeva"
      }
    },
    {
      "cell_type": "code",
      "source": [
        "sns.scatterplot(dfh , x = 'longitude'  , y = 'latitude' , alpha = 0.1)\n",
        "plt.show()"
      ],
      "metadata": {
        "id": "w4bFHnCqkvap"
      },
      "execution_count": null,
      "outputs": []
    },
    {
      "cell_type": "markdown",
      "source": [
        "Q8 : Create a dataset for which ocean proximity is 'Near Ocean'"
      ],
      "metadata": {
        "id": "6TPWWCro8ct3"
      }
    },
    {
      "cell_type": "code",
      "source": [
        "dfh_NearOcean = dfh.loc[dfh[\"ocean_proximity\"]==\"NEAR OCEAN\"]\n",
        "dfh_NearOcean"
      ],
      "metadata": {
        "id": "va4Iddvs8uc0"
      },
      "execution_count": null,
      "outputs": []
    },
    {
      "cell_type": "markdown",
      "source": [
        "Q9 : Find the mean and median of the median income created in the dataset of Q8."
      ],
      "metadata": {
        "id": "RoiLXgpr9Fal"
      }
    },
    {
      "cell_type": "code",
      "source": [
        "dfh_NearOcean['median_income'].mean()"
      ],
      "metadata": {
        "id": "nRK7dlA49awm"
      },
      "execution_count": null,
      "outputs": []
    },
    {
      "cell_type": "code",
      "source": [
        "dfh_NearOcean['median_income'].median()"
      ],
      "metadata": {
        "id": "-Y-Lo_kHtCq3"
      },
      "execution_count": null,
      "outputs": []
    },
    {
      "cell_type": "markdown",
      "source": [
        "Q10 : Please create a new column total_bedroom_size. If the total bedrooms is 10 or less it should be quoted as small. If its 11 or more but less than 1000, it should be medium, otherwise it should be considered large."
      ],
      "metadata": {
        "id": "mtD9cuSL9cDy"
      }
    },
    {
      "cell_type": "code",
      "source": [
        "\n",
        "conditions = [\n",
        "              (dfh['total_bedrooms'] <=10),\n",
        "              (dfh['total_bedrooms'] >=11) & (dfh['total_bedrooms'] <=1000),\n",
        "              (dfh['total_bedrooms'] > 1000)\n",
        "             ]\n",
        "values = ['small','medium','large']\n",
        "\n",
        "dfh['total_bedroom_size'] = np.select(conditions,values)\n",
        "\n",
        "dfh"
      ],
      "metadata": {
        "id": "P40vOHGW-a4C"
      },
      "execution_count": null,
      "outputs": []
    }
  ]
}